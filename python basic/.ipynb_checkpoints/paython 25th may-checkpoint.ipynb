{
 "cells": [
  {
   "cell_type": "markdown",
   "metadata": {},
   "source": [
    "# nested if\n"
   ]
  },
  {
   "cell_type": "code",
   "execution_count": 1,
   "metadata": {},
   "outputs": [
    {
     "name": "stdout",
     "output_type": "stream",
     "text": [
      "inside if\n",
      "inside else of if\n"
     ]
    }
   ],
   "source": [
    "a =50\n",
    "if (a > 40):\n",
    "    print('inside if')\n",
    "    if (a == 30):\n",
    "        print('inside if of if')\n",
    "    else:\n",
    "        print('inside else of if')\n",
    "else:\n",
    "        print('inside else')"
   ]
  },
  {
   "cell_type": "code",
   "execution_count": 12,
   "metadata": {},
   "outputs": [
    {
     "name": "stdout",
     "output_type": "stream",
     "text": [
      "0\n",
      "1\n",
      "2\n",
      "3\n",
      "4\n",
      "5\n",
      "6\n",
      "7\n",
      "8\n",
      "9\n",
      "10\n",
      "11\n",
      "12\n",
      "13\n",
      "14\n",
      "15\n",
      "16\n",
      "17\n",
      "18\n",
      "19\n"
     ]
    }
   ],
   "source": [
    "for x in range(0,20):\n",
    "    print(x)"
   ]
  },
  {
   "cell_type": "code",
   "execution_count": 9,
   "metadata": {},
   "outputs": [
    {
     "name": "stdout",
     "output_type": "stream",
     "text": [
      "0,1,2,3,4,5,6,7,8,9,10,11,12,13,14,15,16,17,18,19,"
     ]
    }
   ],
   "source": [
    "for x in range(0,20):\n",
    "    print(x,end=',')"
   ]
  },
  {
   "cell_type": "markdown",
   "metadata": {},
   "source": [
    "while loop"
   ]
  },
  {
   "cell_type": "code",
   "execution_count": 14,
   "metadata": {},
   "outputs": [
    {
     "name": "stdout",
     "output_type": "stream",
     "text": [
      "0\n",
      "1\n",
      "2\n",
      "3\n",
      "4\n",
      "5\n",
      "6\n",
      "7\n",
      "8\n",
      "9\n"
     ]
    }
   ],
   "source": [
    "a = 0\n",
    "while(a<10):\n",
    "    print(a)\n",
    "    a+=1"
   ]
  },
  {
   "cell_type": "code",
   "execution_count": 18,
   "metadata": {},
   "outputs": [
    {
     "name": "stdout",
     "output_type": "stream",
     "text": [
      "\n",
      "123\n",
      "456\n",
      "789"
     ]
    }
   ],
   "source": [
    "p= [[1,2,3],[4,5,6],[7,8,9]]\n",
    "for x in range(0,3):\n",
    "    print()\n",
    "    for y in range(0,3):\n",
    "        print(p[x][y],end= '')"
   ]
  },
  {
   "cell_type": "code",
   "execution_count": 2,
   "metadata": {},
   "outputs": [
    {
     "name": "stdout",
     "output_type": "stream",
     "text": [
      "enter your name:deepak\n",
      "hello deepak\n"
     ]
    }
   ],
   "source": [
    "name= input ('enter your name:')\n",
    "print('hello',name,)"
   ]
  },
  {
   "cell_type": "code",
   "execution_count": 3,
   "metadata": {},
   "outputs": [
    {
     "name": "stdout",
     "output_type": "stream",
     "text": [
      "ramgopal\n",
      "ram gopal\n"
     ]
    }
   ],
   "source": [
    "#string\n",
    "a ='ram'\n",
    "b  ='gopal'\n",
    "print(a+''+b)\n",
    "print(\"%s %s\"%(a,b))"
   ]
  },
  {
   "cell_type": "code",
   "execution_count": 29,
   "metadata": {},
   "outputs": [
    {
     "name": "stdout",
     "output_type": "stream",
     "text": [
      "20\n",
      "y\n",
      " \n",
      "a erigpto\n",
      "i am learning python\n",
      "nohtyp gninrael ma i\n",
      "nhy nnalm \n"
     ]
    }
   ],
   "source": [
    "a = 'i am learning python'\n",
    "print(len(a))\n",
    "print(max(a))\n",
    "print(min(a))\n",
    "print(a[2:len(a):2])\n",
    "print(a[0:len(a):1])\n",
    "print(a[::-1])\n",
    "print(a[::-2])"
   ]
  },
  {
   "cell_type": "code",
   "execution_count": 6,
   "metadata": {},
   "outputs": [
    {
     "ename": "SyntaxError",
     "evalue": "invalid syntax (<ipython-input-6-aef241a073b2>, line 1)",
     "output_type": "error",
     "traceback": [
      "\u001b[1;36m  File \u001b[1;32m\"<ipython-input-6-aef241a073b2>\"\u001b[1;36m, line \u001b[1;32m1\u001b[0m\n\u001b[1;33m    print{a.capitalize()}\u001b[0m\n\u001b[1;37m         ^\u001b[0m\n\u001b[1;31mSyntaxError\u001b[0m\u001b[1;31m:\u001b[0m invalid syntax\n"
     ]
    }
   ],
   "source": [
    "print{a.capitalize()}\n",
    "print{a.upper()}\n",
    "print{a.lower()}\n",
    "print{a.count{('a')}\n",
    "print{a.count('a',3,len(a))}\n",
    "      \n"
   ]
  },
  {
   "cell_type": "code",
   "execution_count": 20,
   "metadata": {},
   "outputs": [
    {
     "name": "stdout",
     "output_type": "stream",
     "text": [
      "hello fish, have a nice day\n"
     ]
    }
   ],
   "source": [
    "str1='hello fish, have a nice day '\n",
    "#print(str1.replace('l','zaz',1))#replace\n",
    "print(str1.strip(' '))"
   ]
  },
  {
   "cell_type": "code",
   "execution_count": 26,
   "metadata": {},
   "outputs": [
    {
     "name": "stdout",
     "output_type": "stream",
     "text": [
      "['ram', 'is', 'a', 'good', 'boy']\n"
     ]
    }
   ],
   "source": [
    "#split\n",
    "x = 'ram is a good boy'\n",
    "print(x.split(' ',4))#remove the space 0000000000"
   ]
  },
  {
   "cell_type": "code",
   "execution_count": null,
   "metadata": {},
   "outputs": [],
   "source": [
    "''\n",
    "ram is 24 and sita is 22.\n",
    "hari is 23 and jdm 28\n",
    "name = ('ram',sita,'hari')\n",
    "''''''"
   ]
  }
 ],
 "metadata": {
  "kernelspec": {
   "display_name": "Python 3",
   "language": "python",
   "name": "python3"
  },
  "language_info": {
   "codemirror_mode": {
    "name": "ipython",
    "version": 3
   },
   "file_extension": ".py",
   "mimetype": "text/x-python",
   "name": "python",
   "nbconvert_exporter": "python",
   "pygments_lexer": "ipython3",
   "version": "3.6.4"
  }
 },
 "nbformat": 4,
 "nbformat_minor": 2
}
