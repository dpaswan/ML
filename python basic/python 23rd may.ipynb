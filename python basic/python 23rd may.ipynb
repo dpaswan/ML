{
 "cells": [
  {
   "cell_type": "code",
   "execution_count": 1,
   "metadata": {},
   "outputs": [
    {
     "name": "stdout",
     "output_type": "stream",
     "text": [
      "my 1st python program\n"
     ]
    }
   ],
   "source": [
    "print(\"my 1st python program\")"
   ]
  },
  {
   "cell_type": "code",
   "execution_count": 2,
   "metadata": {},
   "outputs": [
    {
     "name": "stdout",
     "output_type": "stream",
     "text": [
      "rakesh\n"
     ]
    }
   ],
   "source": [
    "name = \"rakesh\"\n",
    "print(name)"
   ]
  },
  {
   "cell_type": "code",
   "execution_count": 4,
   "metadata": {},
   "outputs": [
    {
     "name": "stdout",
     "output_type": "stream",
     "text": [
      "the sum of 5+ is: 7\n",
      "the difference of  5-2 is: 3\n",
      "5*2: 10\n",
      "5/2: 2.5\n",
      "5%2: 1\n"
     ]
    }
   ],
   "source": [
    "print(\"the sum of 5+ is:\",(5+2))\n",
    "print (\"the difference of  5-2 is:\",(5-2))\n",
    "print(\"5*2:\",(5*2))\n",
    "print(\"5/2:\",(5/2))\n",
    "print(\"5%2:\",(5%2))"
   ]
  },
  {
   "cell_type": "code",
   "execution_count": 5,
   "metadata": {},
   "outputs": [
    {
     "name": "stdout",
     "output_type": "stream",
     "text": [
      "5**2: 25\n"
     ]
    }
   ],
   "source": [
    "print(\"5**2:\",(5**2))"
   ]
  },
  {
   "cell_type": "code",
   "execution_count": 6,
   "metadata": {},
   "outputs": [
    {
     "name": "stdout",
     "output_type": "stream",
     "text": [
      "5//2: 2\n"
     ]
    }
   ],
   "source": [
    "print(\"5//2:\",(5//2))"
   ]
  },
  {
   "cell_type": "code",
   "execution_count": null,
   "metadata": {},
   "outputs": [],
   "source": []
  },
  {
   "cell_type": "code",
   "execution_count": 1,
   "metadata": {},
   "outputs": [
    {
     "ename": "SyntaxError",
     "evalue": "invalid syntax (<ipython-input-1-11b4fb640aaa>, line 3)",
     "output_type": "error",
     "traceback": [
      "\u001b[1;36m  File \u001b[1;32m\"<ipython-input-1-11b4fb640aaa>\"\u001b[1;36m, line \u001b[1;32m3\u001b[0m\n\u001b[1;33m    print'name1+' +'name2'\u001b[0m\n\u001b[1;37m                ^\u001b[0m\n\u001b[1;31mSyntaxError\u001b[0m\u001b[1;31m:\u001b[0m invalid syntax\n"
     ]
    }
   ],
   "source": [
    "name='sachin'\n",
    "name='ramesh'\n",
    "print'name1+' +'name2'\n",
    "print(\"%s %s %s\" %(\"the god of cricket is\",name1,name2))"
   ]
  },
  {
   "cell_type": "code",
   "execution_count": 26,
   "metadata": {},
   "outputs": [
    {
     "name": "stdout",
     "output_type": "stream",
     "text": [
      "[1, 2, 3, 4, 5]\n",
      "['ram', 'raj,rahim']\n"
     ]
    },
    {
     "ename": "IndexError",
     "evalue": "list index out of range",
     "output_type": "error",
     "traceback": [
      "\u001b[1;31m---------------------------------------------------------------------------\u001b[0m",
      "\u001b[1;31mIndexError\u001b[0m                                Traceback (most recent call last)",
      "\u001b[1;32m<ipython-input-26-c2b54d850077>\u001b[0m in \u001b[0;36m<module>\u001b[1;34m()\u001b[0m\n\u001b[0;32m      4\u001b[0m \u001b[0mstr\u001b[0m\u001b[1;33m=\u001b[0m\u001b[1;33m[\u001b[0m\u001b[1;34m'ram'\u001b[0m\u001b[1;33m,\u001b[0m\u001b[1;34m\"raj\"\u001b[0m\u001b[1;34m',rahim'\u001b[0m\u001b[1;33m]\u001b[0m\u001b[1;33m\u001b[0m\u001b[0m\n\u001b[0;32m      5\u001b[0m \u001b[0mprint\u001b[0m\u001b[1;33m(\u001b[0m\u001b[0mstr\u001b[0m\u001b[1;33m)\u001b[0m\u001b[1;33m\u001b[0m\u001b[0m\n\u001b[1;32m----> 6\u001b[1;33m \u001b[0mprint\u001b[0m\u001b[1;33m(\u001b[0m\u001b[0mstr\u001b[0m\u001b[1;33m[\u001b[0m\u001b[1;36m2\u001b[0m\u001b[1;33m]\u001b[0m\u001b[1;33m)\u001b[0m\u001b[1;33m\u001b[0m\u001b[0m\n\u001b[0m\u001b[0;32m      7\u001b[0m \u001b[0mstr\u001b[0m\u001b[1;33m[\u001b[0m\u001b[1;36m2\u001b[0m\u001b[1;33m]\u001b[0m\u001b[1;33m=\u001b[0m\u001b[1;34m'ravi'\u001b[0m\u001b[1;33m\u001b[0m\u001b[0m\n\u001b[0;32m      8\u001b[0m \u001b[0mprint\u001b[0m\u001b[1;33m(\u001b[0m\u001b[0mstr\u001b[0m\u001b[1;33m)\u001b[0m\u001b[1;33m\u001b[0m\u001b[0m\n",
      "\u001b[1;31mIndexError\u001b[0m: list index out of range"
     ]
    }
   ],
   "source": [
    "#list:\n",
    "a=[1,2,3,4,5]\n",
    "print(a)\n",
    "str=['ram',\"raj\"',rahim']\n",
    "print(str)\n",
    "print(str[2])\n",
    "str[2]='ravi'\n",
    "print(str)"
   ]
  },
  {
   "cell_type": "code",
   "execution_count": null,
   "metadata": {},
   "outputs": [],
   "source": [
    "str.remome(2)\n",
    "print(str1)\n",
    "del str1(6)\n",
    "print(str1)\n"
   ]
  },
  {
   "cell_type": "code",
   "execution_count": 28,
   "metadata": {},
   "outputs": [
    {
     "name": "stdout",
     "output_type": "stream",
     "text": [
      "[[1, 2, 3, 4], [5, 6, 7, 8]]\n",
      "[1, 2, 3, 4, 5, 6, 7, 8]\n",
      "2\n",
      "8\n"
     ]
    }
   ],
   "source": [
    "a=[1,2,3,4]\n",
    "b=[5,6,7,8]\n",
    "c=[a,b]\n",
    "print (c)\n",
    "d=a+b\n",
    "print(d)\n",
    "print(len(c))\n",
    "print(len(d))\n"
   ]
  },
  {
   "cell_type": "code",
   "execution_count": 31,
   "metadata": {},
   "outputs": [
    {
     "name": "stdout",
     "output_type": "stream",
     "text": [
      "['1', 'gopal', 'ram', 'ravi']\n",
      "['ravi', 'ram', 'gopal', '1']\n"
     ]
    }
   ],
   "source": [
    "str1=['ram','ravi','gopal','1']\n",
    "str1.sort()\n",
    "print(str1)\n",
    "str1.reverse()\n",
    "print(str1)"
   ]
  },
  {
   "cell_type": "code",
   "execution_count": 33,
   "metadata": {},
   "outputs": [
    {
     "name": "stdout",
     "output_type": "stream",
     "text": [
      "shayam\n",
      "ali\n",
      "[[1, 2, 3, 4], [5, 6, 7, 8]]\n",
      "[['ram', 'shayam', 'ali', 'gopal'], ['ram', 'ravi', 'shayam', 'ali']]\n",
      "['ram', 'shayam', 'ali', 'gopal']\n",
      "['ram', 'ravi', 'shayam', 'ali']\n"
     ]
    }
   ],
   "source": [
    "a=['ram','shayam','ali','gopal']\n",
    "b=['ram','ravi','shayam','ali']\n",
    "print(max(a))\n",
    "print(min(a))\n",
    "print(c)\n",
    "d=[a,b]\n",
    "print(d)\n",
    "print(max(d))\n",
    "print(min(d))"
   ]
  },
  {
   "cell_type": "code",
   "execution_count": 38,
   "metadata": {},
   "outputs": [
    {
     "ename": "SyntaxError",
     "evalue": "can't assign to literal (<ipython-input-38-e1e765d54360>, line 4)",
     "output_type": "error",
     "traceback": [
      "\u001b[1;36m  File \u001b[1;32m\"<ipython-input-38-e1e765d54360>\"\u001b[1;36m, line \u001b[1;32m4\u001b[0m\n\u001b[1;33m    1=tuple(m)\u001b[0m\n\u001b[1;37m              ^\u001b[0m\n\u001b[1;31mSyntaxError\u001b[0m\u001b[1;31m:\u001b[0m can't assign to literal\n"
     ]
    }
   ],
   "source": [
    "a=(1,2,3,4)\n",
    "b=(5,6,7,8)\n",
    "m=[7,2,6,9]\n",
    "1=tuple(m)\n",
    "\n",
    "print(max(a))\n",
    "print(min(a))\n",
    "print(len(a))\n",
    "a.append(6)\n",
    "print(a)"
   ]
  },
  {
   "cell_type": "code",
   "execution_count": 43,
   "metadata": {},
   "outputs": [
    {
     "name": "stdout",
     "output_type": "stream",
     "text": [
      "{1: 'ram', 2: 'hari', 3: 'rahim'}\n",
      "{1: 'ram', 2: 'hari', 3: 'rahim', 4: 'gopal'}\n",
      "{1: 'sita', 2: 'hari', 3: 'rahim', 4: 'gopal'}\n"
     ]
    }
   ],
   "source": [
    "mydic={1:'ram',2:'hari',3:'rahim'}\n",
    "print(mydic)\n",
    "mydic[4]='gopal'\n",
    "print(mydic)\n",
    "mydic[1]='sita'\n",
    "print(mydic)\n"
   ]
  },
  {
   "cell_type": "code",
   "execution_count": 50,
   "metadata": {},
   "outputs": [
    {
     "ename": "IndentationError",
     "evalue": "unindent does not match any outer indentation level (<tokenize>, line 5)",
     "output_type": "error",
     "traceback": [
      "\u001b[1;36m  File \u001b[1;32m\"<tokenize>\"\u001b[1;36m, line \u001b[1;32m5\u001b[0m\n\u001b[1;33m    elif not(a==16):\u001b[0m\n\u001b[1;37m    ^\u001b[0m\n\u001b[1;31mIndentationError\u001b[0m\u001b[1;31m:\u001b[0m unindent does not match any outer indentation level\n"
     ]
    }
   ],
   "source": [
    "a=16\n",
    "if {a>=16: and a<=5}:\n",
    "    print(\"1 am 18\")\n",
    "    \n",
    " elif not(a==16):\n",
    "    print(\"i am 16\")\n",
    "else:\n",
    "     print{\"i am a robot\"}\n",
    "    "
   ]
  },
  {
   "cell_type": "code",
   "execution_count": null,
   "metadata": {},
   "outputs": [],
   "source": []
  }
 ],
 "metadata": {
  "kernelspec": {
   "display_name": "Python 3",
   "language": "python",
   "name": "python3"
  },
  "language_info": {
   "codemirror_mode": {
    "name": "ipython",
    "version": 3
   },
   "file_extension": ".py",
   "mimetype": "text/x-python",
   "name": "python",
   "nbconvert_exporter": "python",
   "pygments_lexer": "ipython3",
   "version": "3.6.4"
  }
 },
 "nbformat": 4,
 "nbformat_minor": 2
}
